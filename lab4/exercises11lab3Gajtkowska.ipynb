{
 "cells": [
  {
   "cell_type": "markdown",
   "id": "78038197",
   "metadata": {},
   "source": [
    "## Julia Gajtkowska lab 3"
   ]
  },
  {
   "cell_type": "markdown",
   "id": "8a1cd1c3",
   "metadata": {},
   "source": [
    "1. Znajdź liczbę wszystkich filmów o tej samej długości.\n",
    "2. Znajdź wszystkich klientów mieszkających w tym samym mieście.\n",
    "3. Oblicz średni koszt wypożyczenia wszystkich filmów.\n",
    "4. Oblicz i wyświetl liczbę filmów we wszystkich kategoriach.\n",
    "5. Wyświetl liczbę wszystkich klientów pogrupowanych według kraju.\n",
    "6. Wyświetl informacje o sklepie, który ma więcej niż 100 klientów i mniej niż 300 klientów.\n",
    "7. Wybierz wszystkich klientów, którzy oglądali filmy ponad 200 godzin.\n",
    "8. Oblicz średnią wartość wypożyczenia filmu.\n",
    "9. Oblicz średnią wartość długości filmu we wszystkich kategoriach.\n",
    "10. Znajdź najdłuższe tytuły filmowe we wszystkich kategoriach.\n",
    "11. Znajdź najdłuższy film we wszystkich kategoriach. Porównaj wynik z pkt 10."
   ]
  },
  {
   "cell_type": "code",
   "execution_count": 1,
   "id": "884f5b20",
   "metadata": {},
   "outputs": [],
   "source": [
    "import numpy as np\n",
    "import pickle\n",
    "\n",
    "import psycopg2 as pg\n",
    "import pandas.io.sql as psql\n",
    "import pandas as pd\n",
    "\n",
    "from typing import Union, List, Tuple\n",
    "\n",
    "connection = pg.connect(host='pgsql-196447.vipserv.org', port=5432, dbname='wbauer_adb', user='wbauer_adb', password='adb2020');\n"
   ]
  },
  {
   "cell_type": "code",
   "execution_count": 2,
   "id": "4b4edff2",
   "metadata": {},
   "outputs": [
    {
     "name": "stdout",
     "output_type": "stream",
     "text": [
      "   length  count\n",
      "0      48     11\n"
     ]
    }
   ],
   "source": [
    "# Zadanie 1 \n",
    "\n",
    "q = f'''select film.length, count(film.title) from film\n",
    "        where film.length = 48 group by film.length\n",
    "        '''\n",
    "print(pd.read_sql(q,con=connection))\n"
   ]
  },
  {
   "cell_type": "code",
   "execution_count": 3,
   "id": "bc967fa7",
   "metadata": {},
   "outputs": [
    {
     "name": "stdout",
     "output_type": "stream",
     "text": [
      "  first_name last_name   city\n",
      "0      Larry  Thrasher  Adana\n"
     ]
    }
   ],
   "source": [
    "# Zadanie 2\n",
    "\n",
    "q = f\"\"\"select customer.first_name, customer.last_name, city.city from customer\n",
    "        join address on customer.address_id = address.address_id\n",
    "        join city on address.city_id = city.city_id\n",
    "        where city.city = 'Adana'\n",
    "        \"\"\"\n",
    "print(pd.read_sql(q,con=connection))\n"
   ]
  },
  {
   "cell_type": "code",
   "execution_count": 4,
   "id": "6f36fa4c",
   "metadata": {},
   "outputs": [
    {
     "name": "stdout",
     "output_type": "stream",
     "text": [
      "   length       avg\n",
      "0     179  2.823333\n"
     ]
    }
   ],
   "source": [
    "# Zadanie 3\n",
    "\n",
    "q = f\"\"\"select film.length, avg(payment.amount) from film\n",
    "        join inventory on inventory.film_id=film.film_id\n",
    "        join rental on rental.inventory_id = inventory.inventory_id\n",
    "        join payment on payment.rental_id = rental.rental_id\n",
    "        where film.title = 'Youth Kick' group by film.length\n",
    "        \"\"\"\n",
    "# q = f\"\"\"select * from film\"\"\"\n",
    "print(pd.read_sql(q,con=connection))\n"
   ]
  },
  {
   "cell_type": "code",
   "execution_count": 5,
   "id": "a498660c",
   "metadata": {},
   "outputs": [
    {
     "name": "stdout",
     "output_type": "stream",
     "text": [
      "           name  count\n",
      "0        Horror     56\n",
      "1        Comedy     58\n",
      "2        Sci-Fi     61\n",
      "3         Drama     62\n",
      "4       Foreign     73\n",
      "5      Classics     57\n",
      "6         Games     61\n",
      "7           New     63\n",
      "8        Travel     57\n",
      "9         Music     51\n",
      "10       Action     64\n",
      "11  Documentary     68\n",
      "12       Sports     74\n",
      "13    Animation     66\n",
      "14       Family     69\n",
      "15     Children     60\n"
     ]
    }
   ],
   "source": [
    "# Zadanie 4\n",
    "\n",
    "q = f\"\"\"select category.name, count(film.title) from category\n",
    "        join film_category on category.category_id = film_category.category_id\n",
    "        join film on film_category.film_id = film.film_id\n",
    "        group by category.name\n",
    "        \"\"\"\n",
    "\n",
    "print(pd.read_sql(q,con=connection))\n"
   ]
  },
  {
   "cell_type": "code",
   "execution_count": 6,
   "id": "311a158a",
   "metadata": {},
   "outputs": [
    {
     "name": "stdout",
     "output_type": "stream",
     "text": [
      "                  country  count\n",
      "0                Cambodia      2\n",
      "1                  Turkey     15\n",
      "2                 Germany      7\n",
      "3              Madagascar      1\n",
      "4                    Chad      1\n",
      "..                    ...    ...\n",
      "103                 Sudan      2\n",
      "104  United Arab Emirates      3\n",
      "105              Tanzania      3\n",
      "106      French Polynesia      2\n",
      "107              Bulgaria      2\n",
      "\n",
      "[108 rows x 2 columns]\n"
     ]
    }
   ],
   "source": [
    "# Zadanie 5\n",
    "\n",
    "q = f\"\"\"select country.country, count(customer.first_name) from country\n",
    "        join city on country.country_id = city.country_id\n",
    "        join address on city.city_id = address.city_id\n",
    "        join customer on address.address_id = customer.address_id\n",
    "        group by country.country\n",
    "        \"\"\"\n",
    "\n",
    "print(pd.read_sql(q,con=connection))\n"
   ]
  },
  {
   "cell_type": "code",
   "execution_count": 7,
   "id": "1703d08a",
   "metadata": {},
   "outputs": [
    {
     "name": "stdout",
     "output_type": "stream",
     "text": [
      "Empty DataFrame\n",
      "Columns: [manager_staff_id, address_id]\n",
      "Index: []\n"
     ]
    }
   ],
   "source": [
    "# Zadanie 6 \n",
    "\n",
    "q = f\"\"\"select store.manager_staff_id, store.address_id from store\n",
    "        join staff on store.store_id = staff.store_id\n",
    "        join rental on staff.staff_id = rental.staff_id\n",
    "        join customer on rental.customer_id = customer.customer_id\n",
    "        group by store.manager_staff_id, store.address_id\n",
    "        having count(distinct (customer.first_name || ' '|| customer.last_name)) > 100 \n",
    "        and count(distinct (customer.first_name || ' '|| customer.last_name)) <300\n",
    "        \"\"\"\n",
    "\n",
    "print(pd.read_sql(q,con=connection))\n"
   ]
  },
  {
   "cell_type": "code",
   "execution_count": 8,
   "id": "5844c01e",
   "metadata": {},
   "outputs": [
    {
     "name": "stdout",
     "output_type": "stream",
     "text": [
      "    first_name    last_name   sum\n",
      "0        Scott      Shelley  2916\n",
      "1          Tim         Cary  4476\n",
      "2       Samuel       Marlow  2291\n",
      "3         Vera        Mccoy  2275\n",
      "4       Nelson  Christenson  2119\n",
      "..         ...          ...   ...\n",
      "594      Erica     Matthews  2727\n",
      "595    Stanley    Scroggins  3694\n",
      "596      Ellen      Simpson  2977\n",
      "597      Patsy     Davidson  3513\n",
      "598  Gwendolyn          May  2890\n",
      "\n",
      "[599 rows x 3 columns]\n"
     ]
    }
   ],
   "source": [
    "# Zadanie 7\n",
    "\n",
    "q = f\"\"\"select customer.first_name, customer.last_name, sum(film.length) from customer\n",
    "        join rental on customer.customer_id = rental.customer_id\n",
    "        join inventory on rental.inventory_id = inventory.inventory_id\n",
    "        join film on inventory.film_id = film.film_id\n",
    "        group by customer.first_name, customer.last_name\n",
    "        having sum(film.length) > 200\n",
    "        \"\"\"\n",
    "\n",
    "print(pd.read_sql(q,con=connection))\n"
   ]
  },
  {
   "cell_type": "code",
   "execution_count": 21,
   "id": "d09d612a",
   "metadata": {},
   "outputs": [
    {
     "name": "stdout",
     "output_type": "stream",
     "text": [
      "     payment_average                  title\n",
      "0           5.775714    Dragonfly Strangers\n",
      "1           4.704286  Bulworth Commandments\n",
      "2           3.836154       English Bulworth\n",
      "3           2.545000        Pirates Roxanne\n",
      "4           8.365000      Caribbean Liberty\n",
      "..               ...                    ...\n",
      "953         5.531667           Durham Panky\n",
      "954         4.519412         National Story\n",
      "955         4.528462          Nash Chocolat\n",
      "956         5.523333        Airplane Sierra\n",
      "957         5.490000         Image Princess\n",
      "\n",
      "[958 rows x 2 columns]\n"
     ]
    }
   ],
   "source": [
    "# Zadanie 8 \n",
    "\n",
    "q = f\"\"\"select avg(payment.amount) as payment_average, film.title from payment\n",
    "        inner join rental on payment.rental_id = rental.rental_id\n",
    "        inner join inventory on rental.inventory_id = inventory.inventory_id\n",
    "        inner join film on inventory.film_id = film.film_id\n",
    "        group by film.film_id\"\"\"\n",
    "\n",
    "\n",
    "print(pd.read_sql(q,con=connection))\n"
   ]
  },
  {
   "cell_type": "code",
   "execution_count": 22,
   "id": "648ba0dc",
   "metadata": {},
   "outputs": [
    {
     "name": "stdout",
     "output_type": "stream",
     "text": [
      "           name         avg\n",
      "0        Horror  112.482143\n",
      "1        Comedy  115.827586\n",
      "2        Sci-Fi  108.196721\n",
      "3         Drama  120.838710\n",
      "4       Foreign  121.698630\n",
      "5      Classics  111.666667\n",
      "6         Games  127.836066\n",
      "7           New  111.126984\n",
      "8        Travel  113.315789\n",
      "9         Music  113.647059\n",
      "10       Action  111.609375\n",
      "11  Documentary  108.750000\n",
      "12       Sports  128.202703\n",
      "13    Animation  111.015152\n",
      "14       Family  114.782609\n",
      "15     Children  109.800000\n"
     ]
    }
   ],
   "source": [
    "# Zadanie 9\n",
    "\n",
    "q = f\"\"\"select category.name, avg(film.length) from category\n",
    "        join film_category on category.category_id = film_category.category_id\n",
    "        join film on film_category.film_id = film.film_id\n",
    "        group by category.name\n",
    "        \"\"\"\n",
    "\n",
    "print(pd.read_sql(q,con=connection))\n"
   ]
  },
  {
   "cell_type": "code",
   "execution_count": 23,
   "id": "8036b566",
   "metadata": {},
   "outputs": [
    {
     "name": "stdout",
     "output_type": "stream",
     "text": [
      "           name  max\n",
      "0        Horror   27\n",
      "1        Comedy   23\n",
      "2        Sci-Fi   20\n",
      "3         Drama   22\n",
      "4       Foreign   20\n",
      "5      Classics   23\n",
      "6         Games   21\n",
      "7           New   21\n",
      "8        Travel   23\n",
      "9         Music   22\n",
      "10       Action   23\n",
      "11  Documentary   22\n",
      "12       Sports   25\n",
      "13    Animation   22\n",
      "14       Family   22\n",
      "15     Children   20\n"
     ]
    }
   ],
   "source": [
    "# Zadanie 10\n",
    "\n",
    "\n",
    "q = f\"\"\"select category.name, max(length(film.title)) from film \n",
    "        join film_category on film.film_id = film_category.film_id\n",
    "        join category on film_category.category_id = category.category_id\n",
    "        group by category.name        \n",
    "        \"\"\"\n",
    "\n",
    "print(pd.read_sql(q,con=connection))\n"
   ]
  },
  {
   "cell_type": "code",
   "execution_count": 24,
   "id": "3105c75c",
   "metadata": {},
   "outputs": [
    {
     "name": "stdout",
     "output_type": "stream",
     "text": [
      "    max         name\n",
      "0   181       Horror\n",
      "1   185       Comedy\n",
      "2   185       Sci-Fi\n",
      "3   181        Drama\n",
      "4   184      Foreign\n",
      "5   184     Classics\n",
      "6   185        Games\n",
      "7   183          New\n",
      "8   185       Travel\n",
      "9   185        Music\n",
      "10  185       Action\n",
      "11  183  Documentary\n",
      "12  184       Sports\n",
      "13  185    Animation\n",
      "14  184       Family\n",
      "15  178     Children\n"
     ]
    }
   ],
   "source": [
    "# Zadanie 11\n",
    "\n",
    "q = f\"\"\"select max(film.length), category.name from film\n",
    "        join film_category on film.film_id = film_category.film_id\n",
    "        join category on film_category.category_id = category.category_id\n",
    "        group by category.name\n",
    "        \"\"\"\n",
    "\n",
    "print(pd.read_sql(q,con=connection))\n"
   ]
  }
 ],
 "metadata": {
  "kernelspec": {
   "display_name": "Python 3",
   "language": "python",
   "name": "python3"
  },
  "language_info": {
   "codemirror_mode": {
    "name": "ipython",
    "version": 3
   },
   "file_extension": ".py",
   "mimetype": "text/x-python",
   "name": "python",
   "nbconvert_exporter": "python",
   "pygments_lexer": "ipython3",
   "version": "3.8.8"
  }
 },
 "nbformat": 4,
 "nbformat_minor": 5
}
