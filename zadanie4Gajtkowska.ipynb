{
  "nbformat": 4,
  "nbformat_minor": 0,
  "metadata": {
    "colab": {
      "name": "zadanie4Gajtkowska.ipynb",
      "provenance": [],
      "collapsed_sections": []
    },
    "kernelspec": {
      "name": "python3",
      "display_name": "Python 3"
    },
    "language_info": {
      "name": "python"
    }
  },
  "cells": [
    {
      "cell_type": "code",
      "metadata": {
        "colab": {
          "base_uri": "https://localhost:8080/"
        },
        "id": "957Jr1akzIP_",
        "outputId": "3443eb40-9184-496f-f8e3-35239f0b91fe"
      },
      "source": [
        "#Julia Gajtkowska - Zadanie 4\n",
        "# import potrzebnych bibliotek\n",
        "import pandas as pd\n",
        "import numpy as np\n",
        "\n",
        "# stworzenie dataframe'u\n",
        "d = {'name': ['Adam', 'Franek', 'Marysia', 'Natalia', 'Michał'], 'surname': ['Nowak', 'Kaczyński', 'Pełka', 'Gardna', 'Polak'], 'age': [18, 21, 19, 25, 23], 'sex': ['male', 'male', 'female', 'female', 'male']}\n",
        "df = pd.DataFrame(data=d)\n",
        "\n",
        "# wyświetleenie informacji na temat tabeli \n",
        "df.info(verbose=True)\n",
        "# pokazuje ile mamy kolumn i danych, dodatkowo podaje informacje jakiego typu \n",
        "# są dane w kolumnach i ile zajmują pamięci"
      ],
      "execution_count": 14,
      "outputs": [
        {
          "output_type": "stream",
          "name": "stdout",
          "text": [
            "<class 'pandas.core.frame.DataFrame'>\n",
            "RangeIndex: 5 entries, 0 to 4\n",
            "Data columns (total 4 columns):\n",
            " #   Column   Non-Null Count  Dtype \n",
            "---  ------   --------------  ----- \n",
            " 0   name     5 non-null      object\n",
            " 1   surname  5 non-null      object\n",
            " 2   age      5 non-null      int64 \n",
            " 3   sex      5 non-null      object\n",
            "dtypes: int64(1), object(3)\n",
            "memory usage: 288.0+ bytes\n"
          ]
        }
      ]
    },
    {
      "cell_type": "code",
      "metadata": {
        "colab": {
          "base_uri": "https://localhost:8080/",
          "height": 297
        },
        "id": "tKmjO4S72DHv",
        "outputId": "e063d765-727c-4297-e47c-436a585ba5f9"
      },
      "source": [
        "df.describe()\n",
        "# podaje ilość kolumn różnych od null, średnią, maksimum i minimum z podanych danych \n",
        "# odchylenie standardowe danych, "
      ],
      "execution_count": 15,
      "outputs": [
        {
          "output_type": "execute_result",
          "data": {
            "text/html": [
              "<div>\n",
              "<style scoped>\n",
              "    .dataframe tbody tr th:only-of-type {\n",
              "        vertical-align: middle;\n",
              "    }\n",
              "\n",
              "    .dataframe tbody tr th {\n",
              "        vertical-align: top;\n",
              "    }\n",
              "\n",
              "    .dataframe thead th {\n",
              "        text-align: right;\n",
              "    }\n",
              "</style>\n",
              "<table border=\"1\" class=\"dataframe\">\n",
              "  <thead>\n",
              "    <tr style=\"text-align: right;\">\n",
              "      <th></th>\n",
              "      <th>age</th>\n",
              "    </tr>\n",
              "  </thead>\n",
              "  <tbody>\n",
              "    <tr>\n",
              "      <th>count</th>\n",
              "      <td>5.000000</td>\n",
              "    </tr>\n",
              "    <tr>\n",
              "      <th>mean</th>\n",
              "      <td>21.200000</td>\n",
              "    </tr>\n",
              "    <tr>\n",
              "      <th>std</th>\n",
              "      <td>2.863564</td>\n",
              "    </tr>\n",
              "    <tr>\n",
              "      <th>min</th>\n",
              "      <td>18.000000</td>\n",
              "    </tr>\n",
              "    <tr>\n",
              "      <th>25%</th>\n",
              "      <td>19.000000</td>\n",
              "    </tr>\n",
              "    <tr>\n",
              "      <th>50%</th>\n",
              "      <td>21.000000</td>\n",
              "    </tr>\n",
              "    <tr>\n",
              "      <th>75%</th>\n",
              "      <td>23.000000</td>\n",
              "    </tr>\n",
              "    <tr>\n",
              "      <th>max</th>\n",
              "      <td>25.000000</td>\n",
              "    </tr>\n",
              "  </tbody>\n",
              "</table>\n",
              "</div>"
            ],
            "text/plain": [
              "             age\n",
              "count   5.000000\n",
              "mean   21.200000\n",
              "std     2.863564\n",
              "min    18.000000\n",
              "25%    19.000000\n",
              "50%    21.000000\n",
              "75%    23.000000\n",
              "max    25.000000"
            ]
          },
          "metadata": {},
          "execution_count": 15
        }
      ]
    },
    {
      "cell_type": "code",
      "metadata": {
        "colab": {
          "base_uri": "https://localhost:8080/",
          "height": 142
        },
        "id": "LDd9htdw2Fsa",
        "outputId": "64a0f242-87f0-44a9-94f0-acbdc1fad5bc"
      },
      "source": [
        "df.head(3)\n",
        "# wyświetla n = 3 pierwszych wierszy z danych "
      ],
      "execution_count": 16,
      "outputs": [
        {
          "output_type": "execute_result",
          "data": {
            "text/html": [
              "<div>\n",
              "<style scoped>\n",
              "    .dataframe tbody tr th:only-of-type {\n",
              "        vertical-align: middle;\n",
              "    }\n",
              "\n",
              "    .dataframe tbody tr th {\n",
              "        vertical-align: top;\n",
              "    }\n",
              "\n",
              "    .dataframe thead th {\n",
              "        text-align: right;\n",
              "    }\n",
              "</style>\n",
              "<table border=\"1\" class=\"dataframe\">\n",
              "  <thead>\n",
              "    <tr style=\"text-align: right;\">\n",
              "      <th></th>\n",
              "      <th>name</th>\n",
              "      <th>surname</th>\n",
              "      <th>age</th>\n",
              "      <th>sex</th>\n",
              "    </tr>\n",
              "  </thead>\n",
              "  <tbody>\n",
              "    <tr>\n",
              "      <th>0</th>\n",
              "      <td>Adam</td>\n",
              "      <td>Nowak</td>\n",
              "      <td>18</td>\n",
              "      <td>male</td>\n",
              "    </tr>\n",
              "    <tr>\n",
              "      <th>1</th>\n",
              "      <td>Franek</td>\n",
              "      <td>Kaczyński</td>\n",
              "      <td>21</td>\n",
              "      <td>male</td>\n",
              "    </tr>\n",
              "    <tr>\n",
              "      <th>2</th>\n",
              "      <td>Marysia</td>\n",
              "      <td>Pełka</td>\n",
              "      <td>19</td>\n",
              "      <td>female</td>\n",
              "    </tr>\n",
              "  </tbody>\n",
              "</table>\n",
              "</div>"
            ],
            "text/plain": [
              "      name    surname  age     sex\n",
              "0     Adam      Nowak   18    male\n",
              "1   Franek  Kaczyński   21    male\n",
              "2  Marysia      Pełka   19  female"
            ]
          },
          "metadata": {},
          "execution_count": 16
        }
      ]
    }
  ]
}